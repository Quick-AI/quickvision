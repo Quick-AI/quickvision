{
  "nbformat": 4,
  "nbformat_minor": 0,
  "metadata": {
    "colab": {
      "name": "Transfer Learning with PyTorchLightning.ipynb",
      "provenance": []
    },
    "kernelspec": {
      "name": "python3",
      "display_name": "Python 3"
    },
    "accelerator": "GPU"
  },
  "cells": [
    {
      "cell_type": "markdown",
      "metadata": {
        "id": "_GWVb82ufjti"
      },
      "source": [
        "# Transfer Learning CNNs with PyTorch Lightning !"
      ]
    },
    {
      "cell_type": "markdown",
      "metadata": {
        "id": "n6TxTNScf04x"
      },
      "source": [
        "## Install Quickvision !"
      ]
    },
    {
      "cell_type": "code",
      "metadata": {
        "colab": {
          "base_uri": "https://localhost:8080/"
        },
        "id": "W4Q9TFzLUy-3",
        "outputId": "3b21638b-4481-4356-824b-d5993cc9f092"
      },
      "source": [
        "!pip install -q git+https://github.com/Quick-AI/quickvision.git"
      ],
      "execution_count": 2,
      "outputs": [
        {
          "output_type": "stream",
          "text": [
            "\u001b[K     |████████████████████████████████| 256kB 21.6MB/s \n",
            "\u001b[K     |████████████████████████████████| 563kB 52.7MB/s \n",
            "\u001b[K     |████████████████████████████████| 276kB 55.2MB/s \n",
            "\u001b[K     |████████████████████████████████| 829kB 49.5MB/s \n",
            "\u001b[K     |████████████████████████████████| 92kB 12.3MB/s \n",
            "\u001b[?25h  Building wheel for quickvision (setup.py) ... \u001b[?25l\u001b[?25hdone\n",
            "  Building wheel for PyYAML (setup.py) ... \u001b[?25l\u001b[?25hdone\n",
            "  Building wheel for future (setup.py) ... \u001b[?25l\u001b[?25hdone\n"
          ],
          "name": "stdout"
        }
      ]
    },
    {
      "cell_type": "code",
      "metadata": {
        "id": "SFlFDcCzf9GQ"
      },
      "source": [
        "import pytorch_lightning as pl\n",
        "import torch.optim as optim\n",
        "import torchvision.transforms as T\n",
        "from torch.nn import functional as F\n",
        "from torch.utils.data import DataLoader\n",
        "import torch\n",
        "import torchvision\n",
        "from quickvision.models.classification.cnn import lit_cnn"
      ],
      "execution_count": 19,
      "outputs": []
    },
    {
      "cell_type": "markdown",
      "metadata": {
        "id": "BD0bFkqHfxoR"
      },
      "source": [
        "## Create Datasets and DataLoaders"
      ]
    },
    {
      "cell_type": "code",
      "metadata": {
        "id": "eDdEfSeQhJpe"
      },
      "source": [
        "train_transforms = T.Compose([T.ToTensor(), T.Normalize((0.5,), (0.5,))])\n",
        "valid_transforms = T.Compose([T.ToTensor(), T.Normalize((0.5,), (0.5,))])"
      ],
      "execution_count": 4,
      "outputs": []
    },
    {
      "cell_type": "code",
      "metadata": {
        "colab": {
          "base_uri": "https://localhost:8080/"
        },
        "id": "FxiJUYzufoXe",
        "outputId": "aa465bd6-4ee1-42a1-ed28-64b7b228038e"
      },
      "source": [
        "train_dataset = torchvision.datasets.CIFAR10(\"./data\", download=True, train=True, transform=train_transforms)\n",
        "valid_dataset = torchvision.datasets.CIFAR10(\"./data\", download=True, train=False, transform=valid_transforms)"
      ],
      "execution_count": 9,
      "outputs": [
        {
          "output_type": "stream",
          "text": [
            "Files already downloaded and verified\n",
            "Files already downloaded and verified\n"
          ],
          "name": "stdout"
        }
      ]
    },
    {
      "cell_type": "code",
      "metadata": {
        "id": "UmF0BRHFhawG"
      },
      "source": [
        "TRAIN_BATCH_SIZE = 512  # Training Batch Size\n",
        "VALID_BATCH_SIZE = 512  # Validation Batch Size"
      ],
      "execution_count": 10,
      "outputs": []
    },
    {
      "cell_type": "code",
      "metadata": {
        "id": "XRNlSi03frMo"
      },
      "source": [
        "train_loader = DataLoader(train_dataset, TRAIN_BATCH_SIZE, shuffle=True)\n",
        "valid_loader = DataLoader(valid_dataset, VALID_BATCH_SIZE, shuffle=False)"
      ],
      "execution_count": 11,
      "outputs": []
    },
    {
      "cell_type": "markdown",
      "metadata": {
        "id": "ZH2s9zGZhE7_"
      },
      "source": [
        "## Creating Model and Training !"
      ]
    },
    {
      "cell_type": "markdown",
      "metadata": {
        "id": "3PCJxf6CjKCz"
      },
      "source": [
        "- Create a model with pretrained imagenet weights"
      ]
    },
    {
      "cell_type": "code",
      "metadata": {
        "id": "aycbu6WEf57W"
      },
      "source": [
        "model_imagenet = lit_cnn(\"resnet18\", num_classes=10, pretrained=\"imagenet\")"
      ],
      "execution_count": null,
      "outputs": []
    },
    {
      "cell_type": "markdown",
      "metadata": {
        "id": "0pSeliV3jTeO"
      },
      "source": [
        "- You can pass all the possible Trainer Arguments.\n",
        "- Quickvision Does not overwrite any !"
      ]
    },
    {
      "cell_type": "code",
      "metadata": {
        "id": "25jtmXjqjPmn"
      },
      "source": [
        "trainer = pl.Trainer(max_epochs=2, gpus=1)\n",
        "trainer.fit(model_imagenet, train_loader, valid_loader)"
      ],
      "execution_count": null,
      "outputs": []
    },
    {
      "cell_type": "markdown",
      "metadata": {
        "id": "VWLSJSWjjaP9"
      },
      "source": [
        "- Training without any pretrained weights."
      ]
    },
    {
      "cell_type": "code",
      "metadata": {
        "id": "d1j4F_k0jchG"
      },
      "source": [
        "model_ssl = lit_cnn(\"resnet18\", num_classes=10, pretrained=None)"
      ],
      "execution_count": 14,
      "outputs": []
    },
    {
      "cell_type": "code",
      "metadata": {
        "id": "bkQh_iH6jqLx"
      },
      "source": [
        "trainer = pl.Trainer(max_epochs=2, gpus=1)\n",
        "trainer.fit(model_ssl, train_loader, valid_loader)"
      ],
      "execution_count": null,
      "outputs": []
    },
    {
      "cell_type": "markdown",
      "metadata": {
        "id": "gPQzylRohktG"
      },
      "source": [
        "## Custom Training with Lightning !"
      ]
    },
    {
      "cell_type": "markdown",
      "metadata": {
        "id": "ZwOuPOeLkGYF"
      },
      "source": [
        "- To write your own Training logic, metrics, logging. Subclass the `lit_cnn` and write your own logic !"
      ]
    },
    {
      "cell_type": "code",
      "metadata": {
        "id": "G_ZRVhuEhkI-"
      },
      "source": [
        "class CustomTraining(lit_cnn):\n",
        "    def training_step(self, batch, batch_idx):\n",
        "        images, targets = batch\n",
        "        outputs = self.forward(images)\n",
        "        train_loss = F.cross_entropy(outputs, targets, reduction='sum')\n",
        "        # Possible we can compute top-1 and top-5 accuracy here.\n",
        "        return {\"loss\": train_loss}\n",
        "\n",
        "    def validation_step(self, batch, batch_idx):\n",
        "        images, targets = batch\n",
        "        outputs = self.forward(images)\n",
        "        val_loss = F.cross_entropy(outputs, targets, reduction='sum')\n",
        "        # Possible we can compute top-1 and top-5 accuracy here.\n",
        "        return {\"loss\": val_loss}\n",
        "\n",
        "    def configure_optimizers(self):\n",
        "        return torch.optim.Adam(self.parameters(), lr=self.learning_rate)\n"
      ],
      "execution_count": 16,
      "outputs": []
    },
    {
      "cell_type": "markdown",
      "metadata": {
        "id": "29TiRjHCkZ7d"
      },
      "source": [
        "- Create Model provided by Quickvision !"
      ]
    },
    {
      "cell_type": "code",
      "metadata": {
        "id": "gWrl5Nj0kQdk"
      },
      "source": [
        "model_imagenet = CustomTraining(\"resnet18\", num_classes=10, pretrained=\"imagenet\")"
      ],
      "execution_count": 17,
      "outputs": []
    },
    {
      "cell_type": "markdown",
      "metadata": {
        "id": "Xb-2-7MbkdLu"
      },
      "source": [
        "- Train with PL Trainer !"
      ]
    },
    {
      "cell_type": "code",
      "metadata": {
        "id": "3VFw0U6-kXba"
      },
      "source": [
        "trainer = pl.Trainer(max_epochs=2, gpus=1)\n",
        "trainer.fit(model_imagenet, train_loader, valid_loader)"
      ],
      "execution_count": null,
      "outputs": []
    }
  ]
}